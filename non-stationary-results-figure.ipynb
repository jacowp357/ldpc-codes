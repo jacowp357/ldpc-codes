{
 "cells": [
  {
   "cell_type": "code",
   "execution_count": 1,
   "metadata": {},
   "outputs": [],
   "source": [
    "%matplotlib notebook\n",
    "import numpy as np\n",
    "import pandas as pd\n",
    "import matplotlib as mpl\n",
    "from scipy.stats import entropy\n",
    "\n",
    "mpl.rcParams['agg.path.chunksize'] = 10000\n",
    "mpl.rcParams.update({'agg.path.chunksize': 10000})\n",
    "mpl.rcParams[\"font.family\"] = \"Times New Roman\"\n",
    "\n",
    "import matplotlib.pyplot as plt\n",
    "\n",
    "from matplotlib.ticker import FormatStrFormatter\n",
    "import scipy.stats as ss\n",
    "import scipy.stats as stats\n",
    "import scipy.special as special\n",
    "import matplotlib.animation as animation\n",
    "pd.options.display.max_columns = None\n",
    "from sklearn.metrics import roc_curve, roc_auc_score, auc"
   ]
  },
  {
   "cell_type": "markdown",
   "metadata": {},
   "source": [
    "Set LDPC codeword length and get number of packets received."
   ]
  },
  {
   "cell_type": "code",
   "execution_count": 2,
   "metadata": {},
   "outputs": [
    {
     "name": "stdout",
     "output_type": "stream",
     "text": [
      "Codeword length: 540\n",
      "Number of codewords: 23188\n"
     ]
    }
   ],
   "source": [
    "# Set codeword length #\n",
    "n = 540\n",
    "\n",
    "if n == 54:\n",
    "    N = 231880\n",
    "if n == 88:\n",
    "    N = 142290\n",
    "if n == 124:\n",
    "    N = 100980\n",
    "if n == 540:\n",
    "    N = 23188\n",
    "if n == 880:\n",
    "    N = 14229\n",
    "if n == 1240:\n",
    "    N = 10098\n",
    "\n",
    "print(\"Codeword length: {}\".format(n))\n",
    "print(\"Number of codewords: {}\".format(N))"
   ]
  },
  {
   "cell_type": "markdown",
   "metadata": {},
   "source": [
    "Import the simulation data from csv files."
   ]
  },
  {
   "cell_type": "code",
   "execution_count": 3,
   "metadata": {},
   "outputs": [
    {
     "name": "stdout",
     "output_type": "stream",
     "text": [
      "Results data: (12521520, 10)\n"
     ]
    }
   ],
   "source": [
    "df_bit_level = pd.read_csv('bit-level-noise-estimation-540-440.csv', header=None)\n",
    "print(\"Results data: {}\".format(df_bit_level.shape))"
   ]
  },
  {
   "cell_type": "markdown",
   "metadata": {},
   "source": [
    "Create column names."
   ]
  },
  {
   "cell_type": "code",
   "execution_count": 4,
   "metadata": {},
   "outputs": [],
   "source": [
    "df_bit_level.columns = ['shiftedTrueBits',\n",
    "                        'truePrec',\n",
    "                        'recBits',\n",
    "                        'model1DecodedBits',\n",
    "                        'model1PrecMean',\n",
    "                        'model1PrecVar',\n",
    "                        'model2DecodedBits',\n",
    "                        'model2PrecMean',\n",
    "                        'model2PrecVar',\n",
    "                        'modelIdealDecodedBits']"
   ]
  },
  {
   "cell_type": "markdown",
   "metadata": {},
   "source": [
    "Calculate bit errors."
   ]
  },
  {
   "cell_type": "code",
   "execution_count": 5,
   "metadata": {},
   "outputs": [],
   "source": [
    "df_bit_level['trueBits'] = np.where(df_bit_level['shiftedTrueBits'] == -1, 0, 1)\n",
    "\n",
    "df_bit_level['model1Error'] = np.where((df_bit_level['model1DecodedBits'] > 0.5) == df_bit_level['trueBits'], 0, 1)\n",
    "df_bit_level['model2Error'] = np.where((df_bit_level['model2DecodedBits'] > 0.5) == df_bit_level['trueBits'], 0, 1)\n",
    "df_bit_level['noFecError'] = np.where((df_bit_level['recBits'] > 0) == df_bit_level['trueBits'], 0, 1)\n",
    "df_bit_level['modelIdealError'] = np.where((df_bit_level['modelIdealDecodedBits'] > 0.5) == df_bit_level['trueBits'], 0, 1)\n"
   ]
  },
  {
   "cell_type": "markdown",
   "metadata": {},
   "source": [
    "Calculate model evidence per bit: \n",
    "- $p(\\theta_{m}|r)_{t} = \\sum_{i} [b_t=i] \\mathcal{N}_{i}(r_t|\\mu_{i};\\gamma_{t}^{-1})$\n",
    "- $\\ell(\\theta_{m}|r)_{t} = 10 \\log_{10}(\\frac{p(\\theta_{m=1}|r)_{t}}{p(\\theta_{m=2}|r)_{t}}) $ in dB."
   ]
  },
  {
   "cell_type": "code",
   "execution_count": 6,
   "metadata": {},
   "outputs": [
    {
     "data": {
      "text/plain": [
       "(-1.2186763809094139, -1.1449882934498379)"
      ]
     },
     "execution_count": 6,
     "metadata": {},
     "output_type": "execute_result"
    }
   ],
   "source": [
    "df_bit_level['model1Likehood'] = (1 - df_bit_level['model1DecodedBits']) * stats.norm.pdf(df_bit_level['recBits'], loc=-1, scale=np.sqrt(1 / df_bit_level['model1PrecMean'])) + \\\n",
    "(df_bit_level['model1DecodedBits']) * stats.norm.pdf(df_bit_level['recBits'], loc=1, scale=np.sqrt(1 / df_bit_level['model1PrecMean']))\n",
    "\n",
    "df_bit_level['model2Likehood'] = (1 - df_bit_level['model2DecodedBits']) * stats.norm.pdf(df_bit_level['recBits'], loc=-1, scale=np.sqrt(1 / df_bit_level['model2PrecMean'])) + \\\n",
    "(df_bit_level['model2DecodedBits']) * stats.norm.pdf(df_bit_level['recBits'], loc=1, scale=np.sqrt(1 / df_bit_level['model2PrecMean']))\n",
    "\n",
    "df_bit_level['likehoodRatio_db'] = 10*np.log10(df_bit_level['model1Likehood'] / df_bit_level['model2Likehood'])\n",
    "\n",
    "np.log(df_bit_level['model1Likehood']).mean(), np.log(df_bit_level['model2Likehood']).mean()"
   ]
  },
  {
   "cell_type": "markdown",
   "metadata": {},
   "source": [
    "Create packet identification."
   ]
  },
  {
   "cell_type": "code",
   "execution_count": 7,
   "metadata": {},
   "outputs": [],
   "source": [
    "ids = [[i]*n for i in range(N)]\n",
    "packet_ids = [item for sublist in ids for item in sublist]\n",
    "df_bit_level['packet_id'] = packet_ids"
   ]
  },
  {
   "cell_type": "markdown",
   "metadata": {},
   "source": [
    "Create cumulative bit error columns."
   ]
  },
  {
   "cell_type": "code",
   "execution_count": 8,
   "metadata": {},
   "outputs": [],
   "source": [
    "df_bit_level['model1ErrorsCum'] = df_bit_level['model1Error'].cumsum()\n",
    "df_bit_level['model2ErrorsCum'] = df_bit_level['model2Error'].cumsum()\n",
    "df_bit_level['noFecErrorsCum'] = df_bit_level['noFecError'].cumsum()\n",
    "df_bit_level['modelIdealErrorsCum'] = df_bit_level['modelIdealError'].cumsum()"
   ]
  },
  {
   "cell_type": "code",
   "execution_count": 9,
   "metadata": {},
   "outputs": [
    {
     "data": {
      "text/plain": [
       "model1ErrorsCum        1561297\n",
       "model2ErrorsCum        1555024\n",
       "modelIdealErrorsCum    1554201\n",
       "Name: 12521519, dtype: int64"
      ]
     },
     "execution_count": 9,
     "metadata": {},
     "output_type": "execute_result"
    }
   ],
   "source": [
    "df_bit_level[['model1ErrorsCum', 'model2ErrorsCum', 'modelIdealErrorsCum']].iloc[-1]"
   ]
  },
  {
   "cell_type": "markdown",
   "metadata": {},
   "source": [
    "Create SNR estimation and BER plots."
   ]
  },
  {
   "cell_type": "code",
   "execution_count": 19,
   "metadata": {},
   "outputs": [],
   "source": [
    "fig, ax = plt.subplots(4, gridspec_kw={'height_ratios':[6.8, 6.8, 5.5, 5.5]}, sharex=True)\n",
    "fig.set_size_inches(8.5, 12.5)\n",
    "\n",
    "y = df_bit_level['model1PrecMean']\n",
    "error = np.sqrt(df_bit_level['model1PrecVar'])\n",
    "\n",
    "ax[0].plot(10*np.log10(y - error), alpha=0.2, rasterized=True, color='purple', label='1 Standard deviation')\n",
    "ax[0].plot(10*np.log10(y + error), alpha=0.2, rasterized=True, color='purple')\n",
    "\n",
    "ax[0].plot(10*np.log10(df_bit_level['model1PrecMean']), label='Estimated SNR', alpha=0.78, linewidth=1)\n",
    "ax[0].plot(10*np.log10(df_bit_level['truePrec']), rasterized=True, label='True SNR', color='black', alpha=0.78, linewidth=0.8)\n",
    "\n",
    "# ax[0].fill_between(range(10000*n), 10*np.log10(y - error), 10*np.log10(y + error), alpha=0.2, rasterized=True, color='purple', label='1 Standard deviation')\n",
    "\n",
    "ax[0].set_ylabel(\"Signal to noise ratio (dB)\", color=\"black\", fontsize=14)\n",
    "# ax[0].set_xlabel(\"Packets received\", color=\"black\", fontsize=12)\n",
    "ax[0].set_title(\"(a) Model I results\", color=\"black\", fontsize=14)\n",
    "\n",
    "ax2 = ax[0].twinx()\n",
    "\n",
    "model1cumerrors = df_bit_level[['packet_id', 'model1Error']].groupby('packet_id').sum().cumsum()\n",
    "model1cumerrors = model1cumerrors['model1Error'] / ((model1cumerrors.index + 1) * n)\n",
    "\n",
    "ax2.plot(np.arange(n, ((N+1)*n), n), model1cumerrors,\n",
    "         label='SNR estimator (BER)',\n",
    "         color='red',\n",
    "         linewidth=1.2)\n",
    "# ax2.plot(df[25] / 44, label='SNR Estimator (BER)', color='red', linewidth=1, alpha=0.1)\n",
    "noFECcumerrors = df_bit_level[['packet_id', 'noFecError']].groupby('packet_id').sum().cumsum()\n",
    "noFECcumerrors = noFECcumerrors['noFecError'] / ((noFECcumerrors.index + 1) * n)\n",
    "\n",
    "ax2.plot(np.arange(n, ((N+1)*n), n), noFECcumerrors, \n",
    "         label='Uncoded (BER)',\n",
    "         color='gray',\n",
    "         rasterized=True,\n",
    "         linewidth=1.5)\n",
    "modelidealcumerrors = df_bit_level[['packet_id', 'modelIdealError']].groupby('packet_id').sum().cumsum()\n",
    "modelidealcumerrors = modelidealcumerrors['modelIdealError'] / ((modelidealcumerrors.index + 1) * n)\n",
    "\n",
    "ax2.plot(np.arange(n, ((N+1)*n), n), modelidealcumerrors,\n",
    "         label='Optimum (BER)',\n",
    "         color='black', \n",
    "         linestyle='--',\n",
    "         rasterized=True,\n",
    "         linewidth=1)\n",
    "ax2.set_ylabel(\"Cumulative bit error rate\", color=\"black\", fontsize=14)\n",
    "# ax2.set_yscale('symlog', linthreshy=0.0015)\n",
    "ax2.set_yscale('log')\n",
    "ax2.set_yticks([(10)**-3, (10)**-2, (10)**-1, (10)**0])\n",
    "ax[0].set_xlim([0, N*n])\n",
    "ax[0].set_xticks(np.arange(0, (N+1)*n, n*10000))\n",
    "ax[0].set_xticklabels(np.arange(0, (N+1), 10000))\n",
    "\n",
    "ax[0].grid()\n",
    "\n",
    "handles, labels = ax[0].get_legend_handles_labels()\n",
    "handles2, labels2 = ax2.get_legend_handles_labels()\n",
    "ax2.legend(handles + handles2, labels + labels2, loc='lower right', facecolor='white', framealpha=0.9)\n",
    "\n",
    "y = df_bit_level['model2PrecMean']\n",
    "error = np.sqrt(df_bit_level['model2PrecVar'])\n",
    "\n",
    "ax[1].plot(10*np.log10(y - error), alpha=0.8, rasterized=True, color='#33ff33', label='1 Standard deviation')\n",
    "ax[1].plot(10*np.log10(y + error), alpha=0.8, rasterized=True, color='#33ff33')\n",
    "\n",
    "# ax[1].fill_between(range(10000*n), 10*np.log10(y - error), 10*np.log10(y + error), alpha=0.8, rasterized=True, color='#33ff33', label='1 Standard deviation')\n",
    "\n",
    "ax[1].plot(10*np.log10(df_bit_level['model2PrecMean']), label='Estimated SNR', color='#ff9900', alpha=0.8, linewidth=1)\n",
    "ax[1].plot(10*np.log10(df_bit_level['truePrec']), rasterized=True, label='True SNR', alpha=0.78, color='black', linewidth=0.8)\n",
    "\n",
    "ax[1].set_ylabel(\"Signal to noise ratio (dB)\", color=\"black\", fontsize=14)\n",
    "# # ax[1].set_xlabel(\"Packets received\", color=\"black\", fontsize=12)\n",
    "# # ax[1].set_ylim([-25, 25])\n",
    "ax[1].set_title(\"(b) Model II results\", color=\"black\", fontsize=14)\n",
    "\n",
    "ax2 = ax[1].twinx()\n",
    "model1cumerrors = df_bit_level[['packet_id', 'model2Error']].groupby('packet_id').sum().cumsum()\n",
    "model1cumerrors = model1cumerrors['model2Error'] / ((model1cumerrors.index + 1) * n)\n",
    "\n",
    "ax2.plot(np.arange(n, ((N+1)*n), n), model1cumerrors,\n",
    "         label='SNR estimator (BER)',\n",
    "         color='red',\n",
    "         linewidth=1.2)\n",
    "# ax2.plot(df[25] / 44, label='SNR Estimator (BER)', color='red', linewidth=1, alpha=0.1)\n",
    "noFECcumerrors = df_bit_level[['packet_id', 'noFecError']].groupby('packet_id').sum().cumsum()\n",
    "noFECcumerrors = noFECcumerrors['noFecError'] / ((noFECcumerrors.index + 1) * n)\n",
    "\n",
    "ax2.plot(np.arange(n, ((N+1)*n), n), noFECcumerrors, \n",
    "         label='Uncoded (BER)',\n",
    "         color='gray',\n",
    "         rasterized=True,\n",
    "         linewidth=1.5)\n",
    "modelidealcumerrors = df_bit_level[['packet_id', 'modelIdealError']].groupby('packet_id').sum().cumsum()\n",
    "modelidealcumerrors = modelidealcumerrors['modelIdealError'] / ((modelidealcumerrors.index + 1) * n)\n",
    "\n",
    "ax2.plot(np.arange(n, ((N+1)*n), n), modelidealcumerrors,\n",
    "         label='Optimum (BER)',\n",
    "         color='black', \n",
    "         linestyle='--',\n",
    "         rasterized=True,\n",
    "         linewidth=1)\n",
    "ax2.set_ylabel(\"Cumulative bit error rate\", color=\"black\", fontsize=14)\n",
    "# ax2.set_yscale('symlog', linthreshy=0.0015)\n",
    "ax2.set_yscale('log')\n",
    "ax2.set_yticks([(10)**-3, (10)**-2, (10)**-1, (10)**0])\n",
    "ax[1].set_xlim([0, N*n])\n",
    "ax[1].set_xticks(np.arange(0, (N+1)*n, n*10000))\n",
    "ax[1].set_xticklabels(np.arange(0, (N+1), 10000))\n",
    "# ax2.set_ylim([0.001, 0.3])\n",
    "# ax2.set_xlim()\n",
    "# ax2.semilogy(range(10000), np.log(range(10000)))\n",
    "ax[1].grid()\n",
    "\n",
    "handles, labels = ax[1].get_legend_handles_labels()\n",
    "handles2, labels2 = ax2.get_legend_handles_labels()\n",
    "ax2.legend(handles + handles2, labels + labels2, loc='lower right', facecolor='white', framealpha=0.9)\n",
    "\n",
    "# ax3 = ax[2].twinx()\n",
    "# df_error_correction[['model1errors', 'model2errors']].plot(kind='bar', ax=ax3, stacked=True)\n",
    "ax[2].scatter(np.arange(n, ((N+1)*n), n), df_bit_level[['packet_id', 'model1Error']].groupby('packet_id').sum(),\n",
    "              color='blue',\n",
    "              marker='.',\n",
    "              label='Model I',\n",
    "              alpha=0.8)\n",
    "ax[2].scatter(np.arange(n, ((N+1)*n), n), df_bit_level[['packet_id', 'model2Error']].groupby('packet_id').sum(),\n",
    "              color='#ff9900',\n",
    "              marker='x',\n",
    "              label='Model II',\n",
    "              alpha=0.8)\n",
    "\n",
    "ax[2].set_ylabel(\"Bit errors per packet\", color=\"black\", fontsize=14)\n",
    "ax[2].set_title(\"(c) Bit error comparison\", color=\"black\", fontsize=14)\n",
    "ax[2].grid()\n",
    "handles, labels = ax[2].get_legend_handles_labels()\n",
    "# handles2, labels2 = ax2.get_legend_handles_labels()\n",
    "ax[2].legend(handles, labels, loc='upper right', facecolor='white', framealpha=0.8)\n",
    "\n",
    "\n",
    "ax[3].set_ylabel(\"Ratio of model evidence (dB)\", color=\"black\", fontsize=14)\n",
    "ax[3].plot(df_bit_level['likehoodRatio_db'], color='black', alpha=0.5)\n",
    "ax[3].set_xlabel(\"Packets received\", color=\"black\", fontsize=14)\n",
    "ax[3].set_title(\"(d) Model evidence comparison\", color=\"black\", fontsize=14)\n",
    "ax[3].grid()\n",
    "# ax[3].vlines(np.arange(0, 12521520, 540), -50, 50, linestyle=':', alpha=0.5)\n",
    "# plt.xticks(np.arange(12320000, 12521520, 88))\n",
    "\n",
    "# ax3 = ax[3].twinx()\n",
    "# ax3.plot(np.arange(1000, ((N)*n)+1000, 1000),\n",
    "#          df_bit_level[['likehoodRatio_db']].groupby(df_bit_level.index // 1000).mean().values,\n",
    "#          color='red')\n",
    "\n",
    "fig.tight_layout(pad=1.5)\n",
    "\n",
    "plt.savefig('non-stationary-result.pdf', bbox_inches='tight')\n",
    "\n",
    "plt.show()\n",
    "\n",
    "TotalBERModel1 = df_bit_level['model1ErrorsCum'].iloc[-1] / df_bit_level.shape[0]\n",
    "TotalBERModel2 = df_bit_level['model2ErrorsCum'].iloc[-1] / df_bit_level.shape[0]\n",
    "print(\"Model 1 BER: {}\".format(TotalBERModel1))\n",
    "print(\"Model 2 BER: {}\".format(TotalBERModel2))"
   ]
  },
  {
   "cell_type": "code",
   "execution_count": 3,
   "metadata": {},
   "outputs": [],
   "source": [
    "# df_bit_level['diff'] = df_bit_level['model1Error'] - df_bit_level['model2Error']"
   ]
  },
  {
   "cell_type": "code",
   "execution_count": 196,
   "metadata": {},
   "outputs": [],
   "source": [
    "# plt.hist(df_bit_level['model1Likehood'], 1000)\n",
    "# plt.hist(df_bit_level['model2Likehood'], 1000, alpha=0.6)\n",
    "# plt.show()"
   ]
  },
  {
   "cell_type": "code",
   "execution_count": 4,
   "metadata": {},
   "outputs": [],
   "source": [
    "# model1err = df_bit_level[df_bit_level['diff'] == 1]['bitsTruePrec'].values\n",
    "# model2err = df_bit_level[df_bit_level['diff'] == -1]['bitsTruePrec'].values"
   ]
  },
  {
   "cell_type": "code",
   "execution_count": 89,
   "metadata": {},
   "outputs": [],
   "source": [
    "# plt.boxplot([model1err, model2err])\n",
    "# plt.xticks([1, 2], ['model1err', 'model2err'])\n",
    "# plt.show()"
   ]
  },
  {
   "cell_type": "code",
   "execution_count": 90,
   "metadata": {},
   "outputs": [],
   "source": [
    "# fig, axs = plt.subplots(1)\n",
    "# p = axs.scatter(df_bit_level['llhr_db'],\n",
    "#                 df_bit_level['diff'], \n",
    "#                 marker='.',\n",
    "#                 c=df_bit_level['bitsTruePrec'],\n",
    "#                 cmap='inferno')\n",
    "# # q = axs[1].scatter(df_bit_level['llhr_db'],\n",
    "# #             df_bit_level['model2errors'], \n",
    "# #             c=df_bit_level['snr'], \n",
    "# #             marker='.',\n",
    "# #             alpha=0.7,\n",
    "# #             cmap='magma')\n",
    "\n",
    "# # fig.colorbar(p, ax=axs[0])\n",
    "# fig.colorbar(p, ax=axs)\n",
    "# # axs[1].colorbar()\n",
    "# plt.grid()\n",
    "# plt.show()"
   ]
  },
  {
   "cell_type": "code",
   "execution_count": 91,
   "metadata": {
    "scrolled": false
   },
   "outputs": [],
   "source": [
    "# # (df_bit_level['model1errorsCum'] / df_bit_level.index).plot(label='M1')\n",
    "# # (df_bit_level['model2errorsCum'] / df_bit_level.index).plot(label='M2')\n",
    "# # (df_bit_level['noFECerrorsCum'] / df_bit_level.index).plot(label='NoFEC')\n",
    "# # (df_bit_level['modelidealerrorsCum'] / df_bit_level.index).plot(label='ideal', linestyle='--')\n",
    "# plt.scatter(range(df_bit_level.shape[0]), df_bit_level['model1error'] - df_bit_level['model2error'])\n",
    "# plt.plot(10*np.log10(df_bit_level['bitsTruePrec']), label='TrueSNR', color='black')\n",
    "# # plt.plot(10*np.log10(df_bit_level['model1PrecMean']), label='M1SNR', color='blue', alpha=0.5)\n",
    "# # plt.plot(10*np.log10(df_bit_level['model2PrecMean']), label='M2SNR', color='orange', alpha=0.5)\n",
    "# # plt.yscale('log')\n",
    "# # plt.legend()\n",
    "# plt.show()"
   ]
  },
  {
   "cell_type": "code",
   "execution_count": 92,
   "metadata": {},
   "outputs": [],
   "source": [
    "# plt.scatter(np.arange(n, ((N+1)*n), n), df_bit_level[['packet_id', 'model1error']].groupby('packet_id').sum())\n",
    "# plt.scatter(np.arange(n, ((N+1)*n), n), df_bit_level[['packet_id', 'model2error']].groupby('packet_id').sum())\n",
    "# plt.plot(10*np.log10(df_bit_level['bitsTruePrec']), label='True SNR', color='black', alpha=0.78, linewidth=0.8)\n",
    "\n",
    "# plt.show()"
   ]
  },
  {
   "cell_type": "code",
   "execution_count": 5,
   "metadata": {},
   "outputs": [],
   "source": [
    "# 1/2, 2/3, 3/4, 5/6, 10/11, 20/21, 50/51, 400/401"
   ]
  },
  {
   "cell_type": "code",
   "execution_count": 6,
   "metadata": {},
   "outputs": [],
   "source": [
    "# plt.hist(df_bit_level['model1PrecMean'] - df_bit_level['bitsTruePrec'], 500)\n",
    "# plt.hist(df_bit_level['model2PrecMean'] - df_bit_level['bitsTruePrec'], 500)\n",
    "\n",
    "# plt.show()\n"
   ]
  },
  {
   "cell_type": "code",
   "execution_count": 80,
   "metadata": {},
   "outputs": [],
   "source": [
    "# plt.scatter(df_bit_level['model1entropy'], df_bit_level['model2entropy'])\n",
    "# plt.plot(df_bit_level['model2entropy'])\n",
    "# plt.plot(df_bit_level['model1PrecMean'])\n",
    "# plt.plot(df_bit_level['bitsTruePrec'], color='black')\n",
    "# plt.show()"
   ]
  },
  {
   "cell_type": "code",
   "execution_count": 81,
   "metadata": {},
   "outputs": [],
   "source": [
    "# fpr, tpr, thresholds = roc_curve(df_bit_level['bits'], df_bit_level['model1decodedbits'])\n",
    "# roc_auc = roc_auc_score(df_bit_level['bits'], df_bit_level['model1decodedbits'])\n",
    "\n",
    "# fpr2, tpr2, thresholds2 = roc_curve(df_bit_level['bits'], df_bit_level['model2decodedbits'])\n",
    "# roc_auc2 = roc_auc_score(df_bit_level['bits'], df_bit_level['model2decodedbits'])\n",
    "\n",
    "# # Plot ROC curve\n",
    "# plt.plot(fpr, tpr, label='ROC curve (area = %0.3f)' % roc_auc)\n",
    "# plt.plot(fpr2, tpr2, label='ROC curve (area = %0.3f)' % roc_auc2)\n",
    "# plt.plot([0, 1], [0, 1], 'k--')  # random predictions curve\n",
    "# plt.xlim([0.0, 1.0])\n",
    "# plt.ylim([0.0, 1.0])\n",
    "# plt.xlabel('False Positive Rate or (1 - Specifity)')\n",
    "# plt.ylabel('True Positive Rate or (Sensitivity)')\n",
    "# plt.title('Receiver Operating Characteristic')\n",
    "# plt.legend(loc=\"lower right\")\n",
    "# plt.show()"
   ]
  },
  {
   "cell_type": "code",
   "execution_count": 7,
   "metadata": {},
   "outputs": [],
   "source": [
    "# 140000*88, 142290*88"
   ]
  },
  {
   "cell_type": "code",
   "execution_count": 36,
   "metadata": {},
   "outputs": [],
   "source": [
    "# df_bit_level.iloc[7920000:8008000, :].shape"
   ]
  },
  {
   "cell_type": "code",
   "execution_count": 8,
   "metadata": {},
   "outputs": [],
   "source": [
    "# df_bit_level_temp = df_bit_level.iloc[12320000:12521520, :].copy()"
   ]
  },
  {
   "cell_type": "code",
   "execution_count": 25,
   "metadata": {},
   "outputs": [],
   "source": [
    "# # n=88\n",
    "# # plt.scatter(np.arange(0, 880000), df_bit_level['recbits'], color='black', label='Received bit values', alpha=0.3, marker='.')\n",
    "\n",
    "# # plt.scatter(df_bit_level[df_bit_level['model1correct'] == 1]['recbits'].index.values, df_bit_level[df_bit_level['model1correct'] == 1]['recbits'], color='green', label='Received bit values', alpha=0.3, marker='.')\n",
    "# # plt.scatter(df_bit_level[df_bit_level['model1correct'] == 0]['recbits'].index.values, df_bit_level[df_bit_level['model1correct'] == 0]['recbits'], color='red', label='Received bit values', alpha=0.3, marker='.')\n",
    "\n",
    "# y = df_bit_level_temp['model1PrecMean']\n",
    "# error = np.sqrt(df_bit_level_temp['model1PrecVar'])\n",
    "\n",
    "# plt.plot(10*np.log10(df_bit_level_temp['bitsTruePrec']),\n",
    "#          rasterized=True,\n",
    "#          label='True SNR',\n",
    "#          color='black',\n",
    "#          alpha=0.78,\n",
    "#          linewidth=1)\n",
    "# plt.plot(10*np.log10(df_bit_level_temp['model1PrecMean']),\n",
    "#          rasterized=True,\n",
    "#          label='Model I estimated SNR',\n",
    "#          alpha=0.78,\n",
    "#          linewidth=1)\n",
    "\n",
    "# plt.fill_between(range(12320000,12521520), 10*np.log10(y - error),\n",
    "#                  10*np.log10(y + error),\n",
    "#                  alpha=0.2,\n",
    "#                  rasterized=True,\n",
    "#                  color='purple',\n",
    "#                  label='1 Standard deviation')\n",
    "\n",
    "# y = df_bit_level_temp['model2PrecMean']\n",
    "# error = np.sqrt(df_bit_level_temp['model2PrecVar'])\n",
    "\n",
    "# plt.fill_between(range(12320000,12521520),\n",
    "#                  10*np.log10(y - error),\n",
    "#                  10*np.log10(y + error),\n",
    "#                  alpha=0.8,\n",
    "#                  rasterized=True,\n",
    "#                  color='#33ff33',\n",
    "#                  label='1 Standard deviation')\n",
    "\n",
    "# plt.plot(10*np.log10(df_bit_level_temp['model2PrecMean']),\n",
    "#          label='Model II estimated SNR',\n",
    "#          color='#ff9900',\n",
    "#          alpha=0.8,\n",
    "#          linewidth=1)\n",
    "\n",
    "# plt.scatter(np.arange(12320000, 12521520, 88),\n",
    "#             df_bit_level_temp[['packet_id', 'model1error']].groupby('packet_id').sum(),\n",
    "#             color='blue',\n",
    "#             marker='.',\n",
    "#             label='Model I',\n",
    "#             alpha=0.9)\n",
    "# plt.scatter(np.arange(12320000, 12521520, 88),\n",
    "#             df_bit_level_temp[['packet_id', 'model2error']].groupby('packet_id').sum(),\n",
    "#             color='#ff9900',\n",
    "#             marker='x',\n",
    "#             label='Model II',\n",
    "#             alpha=0.9)\n",
    "# plt.vlines(np.arange(12320000, 12521520, 88), -15, 50, linestyle=':', alpha=0.5)\n",
    "# plt.xticks(np.arange(12320000, 12521520, 88))\n",
    "# plt.legend()\n",
    "# plt.xlim([12420250, 12422250])\n",
    "# plt.ylim([-6, 30])\n",
    "# plt.ylabel(\"Signal to noise ratio (dB) and Bit errors\", color=\"black\", fontsize=14)\n",
    "# plt.xlabel(\"Bits received\", color=\"black\", fontsize=14)\n",
    "# plt.title(\"Model comparison\", color=\"black\", fontsize=14)\n",
    "# plt.grid()\n",
    "# plt.ticklabel_format(useOffset=False, style='plain')\n",
    "# plt.savefig('model-comparison-result.pdf', bbox_inches='tight')\n",
    "# plt.show()"
   ]
  },
  {
   "cell_type": "code",
   "execution_count": null,
   "metadata": {},
   "outputs": [],
   "source": [
    "# df_error_correction['cumulative_bits'] = [(i+1)*44 for i in range(N)]\n",
    "# df_error_correction['cumulative_bits'] = [(i+1)*440 for i in range(N)]"
   ]
  },
  {
   "cell_type": "code",
   "execution_count": 9,
   "metadata": {},
   "outputs": [],
   "source": [
    "# l = [[i]*n for i in range(N)]\n",
    "# flat_list = [item for sublist in l for item in sublist]\n",
    "# len(flat_list)"
   ]
  },
  {
   "cell_type": "code",
   "execution_count": 95,
   "metadata": {},
   "outputs": [],
   "source": [
    "# df_bit_level['packet_number'] = flat_list"
   ]
  },
  {
   "cell_type": "code",
   "execution_count": 96,
   "metadata": {},
   "outputs": [],
   "source": [
    "# df_error_correction.shape"
   ]
  },
  {
   "cell_type": "code",
   "execution_count": 10,
   "metadata": {},
   "outputs": [],
   "source": [
    "# m1 = df_bit_level[['packet_number', 'model1lh']].groupby('packet_number').mean()\n",
    "# m1errors = df_bit_level[['packet_number', 'model1error']].groupby('packet_number').sum()\n",
    "# m2errors = df_bit_level[['packet_number', 'model2error']].groupby('packet_number').sum()\n",
    "# m2 = df_bit_level[['packet_number', 'model2lh']].groupby('packet_number').mean()\n",
    "# llh = df_bit_level[['packet_number', 'llhr_db']].groupby('packet_number').mean()\n",
    "# snr = df_bit_level[['packet_number', 'bitsTruePrec']].groupby('packet_number').mean()\n",
    "# # errdiv = df_error_correction['model2errors'] - df_error_correction['model1errors']"
   ]
  },
  {
   "cell_type": "code",
   "execution_count": 11,
   "metadata": {},
   "outputs": [],
   "source": [
    "# plt.scatter(np.log(m2),\n",
    "#             m2errors,  \n",
    "#             marker='.',\n",
    "#             c=snr.values)\n",
    "# # plt.scatter(df_error_correction['m2'], df_error_correction['model2errors'], color='orange', marker='x')\n",
    "# plt.colorbar()\n",
    "# plt.show()"
   ]
  },
  {
   "cell_type": "code",
   "execution_count": 462,
   "metadata": {},
   "outputs": [],
   "source": [
    "# plt.scatter(10*np.log10(df_bit_level[0]), 10*np.log10(df_bit_level[1]))\n",
    "# plt.plot(range(75), range(75), linestyle='--', color='black')\n",
    "# plt.xlabel(\"True SNR\")\n",
    "# plt.ylabel(\"Estimated SNR\")\n",
    "# plt.grid()\n",
    "# plt.show()"
   ]
  },
  {
   "cell_type": "code",
   "execution_count": 37,
   "metadata": {},
   "outputs": [],
   "source": [
    "# mape = np.mean(np.abs((df_bit_level[0] - df_bit_level[1]) / df_bit_level[0])) * 100\n",
    "# TotalBER = (df_error_correction[26] / df_error_correction['cumulative_bits'])[9999]\n",
    "# print(\"MAPE: {}%\".format(mape))\n",
    "# print(\"BER: {}\".format(TotalBER))"
   ]
  },
  {
   "cell_type": "code",
   "execution_count": 30,
   "metadata": {},
   "outputs": [],
   "source": [
    "# df[22] df[23] df[25] df[27] df[29]"
   ]
  },
  {
   "cell_type": "code",
   "execution_count": 38,
   "metadata": {},
   "outputs": [],
   "source": [
    "# fig, ax = plt.subplots()\n",
    "# fig.set_size_inches(9.5, 4.5)\n",
    "# ax.plot(10*np.log10(df[22]), label='True SNR', color='black')\n",
    "# ax.plot(10*np.log10(df[23]), label='Estimated SNR', alpha=0.78, linewidth=1)\n",
    "\n",
    "# y = df[23]\n",
    "# error = np.sqrt(df[24])\n",
    "# plt.fill_between(range(N), 10*np.log10(y - error), 10*np.log10(y + error), alpha=0.2, color='purple', label='1 Standard Deviation')\n",
    "# ax.set_ylabel(\"SNR (dB)\", color=\"black\", fontsize=12, fontname=\"Arial\")\n",
    "# ax.set_xlabel(\"Packets received\", color=\"black\", fontsize=12, fontname=\"Arial\")\n",
    "\n",
    "# ax2 = ax.twinx()\n",
    "# ax2.plot(df[26] / df['cumulative_bits'], label='SNR Estimator (BER)', color='red', linewidth=1)\n",
    "# # ax2.plot(df[25] / 44, label='SNR Estimator (BER)', color='red', linewidth=1, alpha=0.1)\n",
    "# ax2.plot(df[28] / df['cumulative_bits'], label='Uncoded (BER)', color='gray', linewidth=0.9)\n",
    "# ax2.plot(df[30] / df['cumulative_bits'], label='Optimum (BER)', color='black', linestyle=':')\n",
    "# ax2.set_ylabel(\"Cumulative Bit error rate\", color=\"black\", fontsize=12, fontname=\"Arial\")\n",
    "# # ax2.set_yscale('symlog', linthreshy=0.0015)\n",
    "# ax2.set_yscale('log')\n",
    "# ax2.set_yticks([(10)**-3, (10)**-2, (10)**-1, (10)**0])\n",
    "# ax.set_xlim([0, N])\n",
    "# # ax2.set_ylim([0.001, 0.3])\n",
    "# # ax2.set_xlim()\n",
    "# # ax2.semilogy(range(10000), np.log(range(10000)))\n",
    "# ax.grid()\n",
    "\n",
    "# handles, labels = ax.get_legend_handles_labels()\n",
    "# handles2, labels2 = ax2.get_legend_handles_labels()\n",
    "# ax.legend(handles + handles2, labels + labels2, loc='lower right', facecolor='white', framealpha=0.8)\n",
    "# plt.savefig('stationary-result.pdf')\n",
    "# plt.show()"
   ]
  },
  {
   "cell_type": "code",
   "execution_count": 14,
   "metadata": {},
   "outputs": [],
   "source": [
    "# pp = ProgressPlot(plot_names=[\"SNR\", \"BER\"], \n",
    "#                   line_names=[\"True_SNR\", \"Estimated_SNR\", \"Optimal_BER\", \"Actual_BER\"],\n",
    "#                   y_lim=[[-15, 14],[0, 0.2]])\n",
    "\n",
    "# for i in range(10000):\n",
    "#     y_update_dict = {'SNR': {'True_SNR': 10*np.log10(df.loc[i, 22]),\n",
    "#                              'Estimated_SNR': 10*np.log10(df.loc[i, 23])},\n",
    "#                      'BER': {'Optimal_BER': df.loc[i, 30] / df.loc[i, 'cumulative_bits'],\n",
    "#                              'Actual_BER': df.loc[i, 26] / df.loc[i, 'cumulative_bits']}}\n",
    "#     pp.update(y_update_dict)\n",
    "# pp.finalize()"
   ]
  },
  {
   "cell_type": "code",
   "execution_count": null,
   "metadata": {},
   "outputs": [],
   "source": []
  }
 ],
 "metadata": {
  "kernelspec": {
   "display_name": "Python 3",
   "language": "python",
   "name": "python3"
  },
  "language_info": {
   "codemirror_mode": {
    "name": "ipython",
    "version": 3
   },
   "file_extension": ".py",
   "mimetype": "text/x-python",
   "name": "python",
   "nbconvert_exporter": "python",
   "pygments_lexer": "ipython3",
   "version": "3.7.5"
  }
 },
 "nbformat": 4,
 "nbformat_minor": 2
}
