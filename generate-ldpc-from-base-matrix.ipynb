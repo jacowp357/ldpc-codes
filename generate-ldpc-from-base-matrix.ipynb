{
 "cells": [
  {
   "cell_type": "markdown",
   "metadata": {},
   "source": [
    "This code creates LDPC codewords from base matrices following the 5G standard. It takes base matrices from text files\n",
    "to create the LDPC H matrix and encode messages. The original MATLAB code and video lectures can be found [here](https://nptel.ac.in/courses/108106137/)"
   ]
  },
  {
   "cell_type": "code",
   "execution_count": 1,
   "metadata": {},
   "outputs": [],
   "source": [
    "%matplotlib notebook\n",
    "import matplotlib.pylab as plt\n",
    "import numpy as np\n",
    "import pandas as pd"
   ]
  },
  {
   "cell_type": "code",
   "execution_count": 2,
   "metadata": {},
   "outputs": [
    {
     "name": "stdout",
     "output_type": "stream",
     "text": [
      "Base matrix shape: (46, 68)\n",
      "Number of block messages: 22\n",
      "Number of message bits k: 440\n",
      "Total number of bits n: 1360\n",
      "Code rate r: 0.324\n"
     ]
    }
   ],
   "source": [
    "B = np.loadtxt('base_matrices/NR_1_2_20.txt') # last two digits in the filename indicate the expansion factor to be used\n",
    "z = 20\n",
    "k = (B.shape[1] - B.shape[0]) * z\n",
    "n = B.shape[1] * z\n",
    "B = B.astype(int)\n",
    "print(\"Base matrix shape: {}\".format(B.shape))\n",
    "print(\"Number of block messages: {}\".format(B.shape[1] - B.shape[0]))\n",
    "print(\"Number of message bits k: {}\".format(k))\n",
    "print(\"Total number of bits n: {}\".format(n))\n",
    "print(\"Code rate r: {:.3f}\".format(k / n))"
   ]
  },
  {
   "cell_type": "markdown",
   "metadata": {},
   "source": [
    "Set a specified code rate:"
   ]
  },
  {
   "cell_type": "code",
   "execution_count": 3,
   "metadata": {},
   "outputs": [],
   "source": [
    "r = 0.5\n",
    "k = B.shape[1] - B.shape[0]\n",
    "n = int(k / r)\n",
    "B = B[:k, :n]"
   ]
  },
  {
   "cell_type": "markdown",
   "metadata": {},
   "source": [
    "Visualise the base matrix:"
   ]
  },
  {
   "cell_type": "code",
   "execution_count": 4,
   "metadata": {},
   "outputs": [],
   "source": [
    "# plt.matshow(B, fignum=10)\n",
    "# plt.gca().set_aspect('auto')\n",
    "# plt.show()"
   ]
  },
  {
   "cell_type": "markdown",
   "metadata": {},
   "source": [
    "Expand the base matrix to create the LDPC H matrix:"
   ]
  },
  {
   "cell_type": "code",
   "execution_count": 5,
   "metadata": {},
   "outputs": [
    {
     "name": "stdout",
     "output_type": "stream",
     "text": [
      "Final shape of H matrix: (440, 880)\n"
     ]
    }
   ],
   "source": [
    "row = []\n",
    "col = []\n",
    "ef = z # expansion factor\n",
    "for i in range(B.shape[0]):\n",
    "    row = []\n",
    "    for j in range(B.shape[1]):\n",
    "        k = B[i, j]\n",
    "        if k == -1:\n",
    "            mat = np.zeros((ef, ef))\n",
    "        elif k == 0:\n",
    "            mat = np.eye(ef, ef)\n",
    "        else:\n",
    "            mat = np.eye(ef, ef)\n",
    "            mat = np.roll(mat, k, axis=1)\n",
    "        row.append(mat)\n",
    "        mat = np.concatenate(row, axis=1)\n",
    "    col.append(mat)\n",
    "H = np.concatenate(col, axis=0).astype(int)\n",
    "print(\"Final shape of H matrix: {}\".format(H.shape))"
   ]
  },
  {
   "cell_type": "markdown",
   "metadata": {},
   "source": [
    "Visualise the final H matrix:"
   ]
  },
  {
   "cell_type": "code",
   "execution_count": 6,
   "metadata": {},
   "outputs": [],
   "source": [
    "# plt.matshow(H, fignum=10)\n",
    "# plt.gca().set_aspect('auto')\n",
    "# plt.show()"
   ]
  },
  {
   "cell_type": "markdown",
   "metadata": {},
   "source": [
    "Encoding messages to get the LDPC codewords:"
   ]
  },
  {
   "cell_type": "code",
   "execution_count": 7,
   "metadata": {},
   "outputs": [],
   "source": [
    "def mul_shft(x, k):\n",
    "    # multiplication by the shifted identity matrix\n",
    "    # x is the input block and k is the shift\n",
    "    if k == -1:\n",
    "        return np.zeros(x.shape[0])\n",
    "    else:\n",
    "        return np.array(list(x[k:]) + list(x[:k]))"
   ]
  },
  {
   "cell_type": "code",
   "execution_count": 8,
   "metadata": {},
   "outputs": [],
   "source": [
    "def check_valid_codeword(H, c):\n",
    "    # modulo 2 matrix multiplication between H and codeword\n",
    "    # if all zeros then c is a valid codeword\n",
    "    return (np.matmul(H, c) % 2).sum()"
   ]
  },
  {
   "cell_type": "code",
   "execution_count": 9,
   "metadata": {},
   "outputs": [],
   "source": [
    "def get_codeword(B, z, msg):\n",
    "    # encode the message bits msg\n",
    "    m, n = B.shape\n",
    "    cword = np.zeros(n*z)\n",
    "    cword[:(n-m)*z] = msg\n",
    "\n",
    "    # double-diagonal encoding\n",
    "    temp = np.zeros(z)\n",
    "    for i in range(4):\n",
    "        for j in range(n - m):\n",
    "            temp = (temp + mul_shft(msg[j*z:(j + 1)*z], B[i, j])) % 2\n",
    "\n",
    "    # find the first parity bit p1        \n",
    "    if B[1, n-m] == -1:\n",
    "        p1_sh = B[2, n-m];\n",
    "    else:\n",
    "        p1_sh = B[1, n-m];\n",
    "\n",
    "    cword[(n-m)*z:(n-m+1)*z] = mul_shft(temp, z-p1_sh)\n",
    "\n",
    "    # find p2, p3, p4\n",
    "    for i in range(3):\n",
    "        temp = np.zeros(z)\n",
    "        for j in range(n-m+i+1):\n",
    "            temp = (temp + mul_shft(cword[j*z:(j + 1)*z], B[i,j])) % 2\n",
    "        cword[(n-m+i+1)*z:(n-m+i+2)*z] = temp\n",
    "        \n",
    "    # find the remaining parity bits\n",
    "    for i in range(4, m):\n",
    "        temp = np.zeros(z)\n",
    "        for j in range(n-m+4):\n",
    "            temp = (temp + mul_shft(cword[j*z:(j + 1)*z], B[i,j])) % 2       \n",
    "        cword[(n-m+i)*z:(n-m+i+1)*z] = temp\n",
    "    return cword.astype(int)"
   ]
  },
  {
   "cell_type": "markdown",
   "metadata": {},
   "source": [
    "Now we create random messages and encode them:"
   ]
  },
  {
   "cell_type": "code",
   "execution_count": 10,
   "metadata": {},
   "outputs": [],
   "source": [
    "codeword_list = []\n",
    "for i in range(10000):\n",
    "    msg = np.random.randint(0, 2, H.shape[0])\n",
    "    codeword = get_codeword(B, z, msg)\n",
    "    if check_valid_codeword(H, codeword) == 0:\n",
    "        codeword_list.append(list(codeword))\n",
    "    else:\n",
    "        print(\"Bad codeword found\")"
   ]
  },
  {
   "cell_type": "markdown",
   "metadata": {},
   "source": [
    "Store all the codewords:"
   ]
  },
  {
   "cell_type": "code",
   "execution_count": 11,
   "metadata": {},
   "outputs": [],
   "source": [
    "# file_name = 'NR_1_0_2_codewords'\n",
    "file_name = 'NR_1_2_20_codewords'\n",
    "df = pd.DataFrame(codeword_list)\n",
    "df.to_csv('{}.csv'.format(file_name), sep=',', header=False, index=False)"
   ]
  },
  {
   "cell_type": "markdown",
   "metadata": {},
   "source": [
    "This part is used to create the even parity check factors that is used in infer.net: "
   ]
  },
  {
   "cell_type": "code",
   "execution_count": 12,
   "metadata": {},
   "outputs": [],
   "source": [
    "# for i, col in enumerate(H):\n",
    "#     positions = np.where(col == 1)[0]\n",
    "#     if len(positions) > 0:\n",
    "#         factor = \" != \".join(\"v[{0}]\".format(n) for n in positions)\n",
    "#         print(\"Variable.ConstrainEqual({}, Variable.Bernoulli(0));\".format(factor))"
   ]
  },
  {
   "cell_type": "markdown",
   "metadata": {},
   "source": [
    "Side note: the relationship between SNR and precision:\n",
    "\n",
    "SNR = $10 \\times \\text{log}_{10}(\\frac{1}{var})$ (dB) = $10 \\times \\text{log}_{10}(\\gamma)$, where $\\gamma$ is the precision.\n",
    "\n",
    "$\\gamma = 10^{(\\frac{SNR}{10})}$ (precision) or \n",
    "$var = \\sigma^2 = 10^{(\\frac{-SNR}{10})}$ (variance) or\n",
    "$\\sigma = 10^{(\\frac{-SNR}{20})}$ (standard deviation)\n",
    "\n"
   ]
  }
 ],
 "metadata": {
  "kernelspec": {
   "display_name": "Python 3",
   "language": "python",
   "name": "python3"
  },
  "language_info": {
   "codemirror_mode": {
    "name": "ipython",
    "version": 3
   },
   "file_extension": ".py",
   "mimetype": "text/x-python",
   "name": "python",
   "nbconvert_exporter": "python",
   "pygments_lexer": "ipython3",
   "version": "3.7.5"
  }
 },
 "nbformat": 4,
 "nbformat_minor": 2
}
