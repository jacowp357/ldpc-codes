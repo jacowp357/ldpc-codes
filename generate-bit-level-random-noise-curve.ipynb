{
 "cells": [
  {
   "cell_type": "markdown",
   "metadata": {},
   "source": [
    "This code generates the true precision base graph that is used to sample Gaussian random noise from. It alternates between slow and quick changing noise conditions for both high and low precision."
   ]
  },
  {
   "cell_type": "code",
   "execution_count": 2,
   "metadata": {},
   "outputs": [],
   "source": [
    "%matplotlib notebook\n",
    "import matplotlib.pylab as plt\n",
    "import numpy as np\n",
    "import pandas as pd\n",
    "import random, pickle\n",
    "import resampy"
   ]
  },
  {
   "cell_type": "markdown",
   "metadata": {},
   "source": [
    "Side note: the relationship between SNR and precision:\n",
    "\n",
    "SNR = $10 \\times \\text{log}_{10}(\\frac{1}{var})$ (dB) = $10 \\times \\text{log}_{10}(\\gamma)$, where $\\gamma$ is the precision.\n",
    "\n",
    "$\\gamma = 10^{(\\frac{SNR}{10})}$ (precision) or \n",
    "$var = \\sigma^2 = 10^{(\\frac{-SNR}{10})}$ (variance) or\n",
    "$\\sigma = 10^{(\\frac{-SNR}{20})}$ (standard deviation)\n",
    "\n"
   ]
  },
  {
   "cell_type": "code",
   "execution_count": 258,
   "metadata": {},
   "outputs": [
    {
     "data": {
      "text/plain": [
       "(231880.0, 142290.0, 100980.0, 23188.0, 14229.0, 10098.0)"
      ]
     },
     "execution_count": 258,
     "metadata": {},
     "output_type": "execute_result"
    }
   ],
   "source": [
    "n = 12521520\n",
    "n/54, n/88, n/124, n/540, n/880, n/1240"
   ]
  },
  {
   "cell_type": "code",
   "execution_count": 544,
   "metadata": {},
   "outputs": [
    {
     "data": {
      "text/plain": [
       "1565190.0"
      ]
     },
     "execution_count": 544,
     "metadata": {},
     "output_type": "execute_result"
    }
   ],
   "source": [
    "12521520 / 8"
   ]
  },
  {
   "cell_type": "code",
   "execution_count": 7,
   "metadata": {},
   "outputs": [],
   "source": [
    "dims = 1\n",
    "step_n = 1565190\n",
    "step_set = [-1, 0, 1]\n",
    "step_shape = (step_n,dims)\n",
    "origin = np.zeros((1,dims))\n",
    "steps = np.random.choice(a=step_set, size=step_shape)\n",
    "path1 = np.concatenate([origin, steps]).cumsum(0)[:-1]\n",
    "\n",
    "dims = 1\n",
    "step_n = 1565190\n",
    "step_set = [-1, 0, 1]\n",
    "step_shape = (step_n,dims)\n",
    "origin = np.zeros((1,dims))\n",
    "steps = np.random.choice(a=step_set, size=step_shape)\n",
    "path2 = np.concatenate([origin, steps]).cumsum(0)[:-1]\n",
    "\n",
    "dims = 1\n",
    "step_n = 1565190\n",
    "step_set = [-1, 0, 1]\n",
    "step_shape = (step_n,dims)\n",
    "origin = np.zeros((1,dims))\n",
    "steps = np.random.choice(a=step_set, size=step_shape)\n",
    "path3 = np.concatenate([origin, steps]).cumsum(0)[:-1]\n",
    "\n",
    "dims = 1\n",
    "step_n = 1565190\n",
    "step_set = [-1, 0, 1]\n",
    "step_shape = (step_n,dims)\n",
    "origin = np.zeros((1,dims))\n",
    "steps = np.random.choice(a=step_set, size=step_shape)\n",
    "path4 = np.concatenate([origin, steps]).cumsum(0)[:-1]\n",
    "\n",
    "step_noise = []\n",
    "for i in range(50):\n",
    "    lent = random.choice(range(969160))\n",
    "    n = random.choice(range(-11,11,1))\n",
    "    step_noise.append([n]*lent)\n",
    "\n",
    "        \n",
    "step_noise = np.array([item for sublist in step_noise for item in sublist]).reshape(-1,1)[:6260760]"
   ]
  },
  {
   "cell_type": "code",
   "execution_count": 8,
   "metadata": {},
   "outputs": [],
   "source": [
    "path = np.concatenate([(path1* 0.005) + 2,\n",
    "                       path2 * 0.004,\n",
    "                       (path3 * 0.005) + 5,\n",
    "                       (path4 * 0.005) + 2])"
   ]
  },
  {
   "cell_type": "code",
   "execution_count": 9,
   "metadata": {},
   "outputs": [
    {
     "data": {
      "text/plain": [
       "(12521520, 1)"
      ]
     },
     "execution_count": 9,
     "metadata": {},
     "output_type": "execute_result"
    }
   ],
   "source": [
    "noise = np.concatenate([path, step_noise + 2 * 0.9])\n",
    "noise.shape # 12521520"
   ]
  },
  {
   "cell_type": "code",
   "execution_count": 12,
   "metadata": {},
   "outputs": [],
   "source": [
    "# plt.plot(noise)\n",
    "# plt.show()"
   ]
  },
  {
   "cell_type": "code",
   "execution_count": 11,
   "metadata": {},
   "outputs": [
    {
     "data": {
      "text/plain": [
       "(12521520, 1)"
      ]
     },
     "execution_count": 11,
     "metadata": {},
     "output_type": "execute_result"
    }
   ],
   "source": [
    "noise = (10)**(noise/10)\n",
    "df = pd.DataFrame(noise)\n",
    "df.to_csv('precision-12521520.csv', sep=',', header=False, index=False)\n",
    "df.shape"
   ]
  },
  {
   "cell_type": "code",
   "execution_count": null,
   "metadata": {},
   "outputs": [],
   "source": []
  }
 ],
 "metadata": {
  "kernelspec": {
   "display_name": "Python 3",
   "language": "python",
   "name": "python3"
  },
  "language_info": {
   "codemirror_mode": {
    "name": "ipython",
    "version": 3
   },
   "file_extension": ".py",
   "mimetype": "text/x-python",
   "name": "python",
   "nbconvert_exporter": "python",
   "pygments_lexer": "ipython3",
   "version": "3.7.5"
  }
 },
 "nbformat": 4,
 "nbformat_minor": 2
}
